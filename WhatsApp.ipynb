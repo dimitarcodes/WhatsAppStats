{
 "cells": [
  {
   "cell_type": "code",
   "execution_count": null,
   "metadata": {},
   "outputs": [],
   "source": [
    "import os\n",
    "import re\n",
    "import pandas as pd\n",
    "import itertools\n",
    "from datetime import datetime\n",
    "import time\n",
    "from matplotlib import pyplot as plt"
   ]
  },
  {
   "cell_type": "code",
   "execution_count": null,
   "metadata": {},
   "outputs": [],
   "source": [
    "def raw_to_df(file):\n",
    "    # file = directory of file\n",
    "    # if the file is in the same folder as the jupyter notebook, only filename required\n",
    "    f = open(file, 'r', encoding='utf-8')\n",
    "    chat = pd.DataFrame(columns=['date','time','sender','message'])\n",
    "    beginning_pattern = \"^\\d+/\\d+/\\d+, \\d\\d:\\d\\d - .*:\"\n",
    "    misc_pattern=\"(^\\d+/\\d+/\\d+, \\d\\d:\\d\\d - .* removed|^\\d+/\\d+/\\d+, \\d\\d:\\d\\d - .* added|^\\d+/\\d+/\\d+, \\d\\d:\\d\\d - .* created group|^\\d+/\\d+/\\d+, \\d\\d:\\d\\d - .* joined using|^\\d+/\\d+/\\d+, \\d\\d:\\d\\d - .* left|^\\d+/\\d+/\\d+, \\d\\d:\\d\\d - .* changed the)\"\n",
    "    whatsapp_pattern = \"^\\d+/\\d+/\\d+, \\d\\d:\\d\\d - Messages and calls are end-to-end encrypted\"\n",
    "    date = datetime.now()\n",
    "    time = datetime.now()\n",
    "    sender = \"\"\n",
    "    msg = \"\"\n",
    "    for count, line in enumerate(f):\n",
    "        # if the line begins with the signature of a message (datetime - sender:)\n",
    "        if re.match(beginning_pattern, line):\n",
    "            if msg:\n",
    "                # record the [old] accumulated data in the dataframe\n",
    "                chat = chat.append(pd.Series({'date': date, 'time': time, 'sender': sender, 'message':msg}), ignore_index=True)\n",
    "            # extract the new line's information\n",
    "            date, time, sender, msg = extract_msg(line, miscEvent=False)\n",
    "        elif re.match(misc_pattern, line):\n",
    "            if msg:\n",
    "                # record the [old] accumulated data in the dataframe\n",
    "                chat = chat.append(pd.Series({'date': date, 'time': time, 'sender': sender, 'message':msg}), ignore_index=True)\n",
    "            # extract the new line's information\n",
    "            date, time, sender, msg = extract_msg(line, miscEvent=True)\n",
    "        elif re.match(whatsapp_pattern, line):\n",
    "            if msg:\n",
    "                # record the [old] accumulated data in the dataframe\n",
    "                chat = chat.append(pd.Series({'date': date, 'time': time, 'sender': sender, 'message':msg}), ignore_index=True)\n",
    "            # extract the new line's information\n",
    "            date, time, sender, msg = extract_msg(line, miscEvent=True, WhatsAppEvent=True)\n",
    "        else: \n",
    "            # if the line doesn't begin with the signature of a message \n",
    "            # that means it's a continuation of a previous message\n",
    "            # append it to the [old] msg variable\n",
    "            msg = msg + line\n",
    "    # record the [leftover] accumulated data in the dataframe\n",
    "    chat = chat.append(pd.Series({'date': date, 'time': time, 'sender': sender, 'message':msg}), ignore_index=True)\n",
    "    \n",
    "    return chat\n",
    "    \n",
    "def extract_msg(line, debug=False, miscEvent=False, WhatsAppEvent=False): \n",
    "    # datetime format is \"month/day/year, hh:mm\"\n",
    "    datetime_pattern  = \"\\d+/\\d+/\\d+, \\d\\d:\\d\\d\" \n",
    "    \n",
    "    # get datetime string using datetime pattern\n",
    "    datetime_str = re.match(datetime_pattern, line).group(0)\n",
    "    # convert datetime string to datetime object\n",
    "    dtime = datetime.now()\n",
    "    \n",
    "    # infer the datetime format (european - dd/mm/yyyy or american - mm/dd/yy)\n",
    "    if re.match(\"\\d+/\\d+/\\d\\d\\d\\d\", line):\n",
    "        dtime = datetime.strptime(datetime_str, '%d/%m/%Y, %H:%M')\n",
    "    else:\n",
    "        dtime = datetime.strptime(datetime_str, '%m/%d/%y, %H:%M')\n",
    "    \n",
    "        \n",
    "    # remove datetime string from message\n",
    "    nodatetime = line[len(datetime_str):len(line)]\n",
    "    \n",
    "    if WhatsAppEvent:\n",
    "        msg = nodatetime[3:len(nodatetime)]\n",
    "        sender = 'WhatsApp Misc'\n",
    "        return dtime.date(), dtime.time(), sender, msg\n",
    "    \n",
    "    else:\n",
    "        # sender format is nongreedy \" - sender_id: \"\n",
    "        # where sender_id is unknown length of any characters that \n",
    "        # could be either phone number or string nongreedy (?) = find \n",
    "        # shortest amount of characters before the colon\n",
    "        author_pattern=\"\"\n",
    "        \n",
    "        if miscEvent:\n",
    "            author_pattern = \"( - .*? crea| - .*? join| - .*? left| - .*? chan| - .*? remo| - .*? adde)\" \n",
    "        else:\n",
    "            author_pattern = \" - .*?: \" \n",
    "        \n",
    "        # get author string using author pattern\n",
    "        author = re.match(author_pattern, nodatetime).group(0)\n",
    "\n",
    "        # get pure message without no metadata\n",
    "        if miscEvent:\n",
    "            msg = nodatetime[len(author)-4:len(nodatetime)]\n",
    "        else:\n",
    "            msg = nodatetime[len(author):len(nodatetime)]\n",
    "            \n",
    "        \n",
    "\n",
    "        # remove the hyphen in the beginning and the colon/event at the end of the sender\n",
    "        if miscEvent:\n",
    "            sender = author[3:len(author)-5]\n",
    "        else: \n",
    "            sender = author[3:len(author)-2] \n",
    "        \n",
    "        return dtime.date(), dtime.time(), sender, msg"
   ]
  },
  {
   "cell_type": "code",
   "execution_count": null,
   "metadata": {},
   "outputs": [],
   "source": [
    "# convert the raw txt file to a pandas dataframe + track how long it takes\n",
    "start_time = time.time()\n",
    "chat = raw_to_df(\"chat.txt\")\n",
    "print(\"it took %.3f seconds to process %d messages\" % ((time.time() - start_time), chat.shape[0]))"
   ]
  },
  {
   "cell_type": "code",
   "execution_count": null,
   "metadata": {},
   "outputs": [],
   "source": [
    "# Export to excel and csv\n",
    "chat.to_excel(\"chat.xlsx\")\n",
    "chat.to_csv(\"chat.csv\")"
   ]
  },
  {
   "cell_type": "code",
   "execution_count": null,
   "metadata": {},
   "outputs": [],
   "source": [
    "# usually both of these are only one or two messages\n",
    "idxWAM= chat[(chat[\"sender\"] == 'WhatsApp Misc' )].index  \n",
    "idxYou = chat[(chat[\"sender\"] == 'You' )].index \n",
    "chat.drop(idxWAM, inplace=True)\n",
    "chat.drop(idxYou, inplace=True)"
   ]
  },
  {
   "cell_type": "code",
   "execution_count": null,
   "metadata": {},
   "outputs": [],
   "source": [
    "# Bar plot of senders\n",
    "chat.sender.value_counts().sort_values().plot(kind = 'barh', figsize=(5,5))\n",
    "plt.xlabel(\"Number of Messages\")\n",
    "plt.ylabel(\"Sender\")\n",
    "plt.grid()\n",
    "plt.show()"
   ]
  },
  {
   "cell_type": "code",
   "execution_count": null,
   "metadata": {
    "scrolled": false
   },
   "outputs": [],
   "source": [
    "# Pie plot of senders\n",
    "chat.sender.value_counts().sort_values().plot(kind = 'pie', autopct='%1.1f%%', figsize=(10,10), colormap=\"rainbow\")\n",
    "plt.ylabel(\"\")\n",
    "plt.xlabel(\"\")\n",
    "plt.legend(title=\"Senders\", loc='center left', bbox_to_anchor=(1.1, 0.5))\n",
    "plt.show()"
   ]
  }
 ],
 "metadata": {
  "kernelspec": {
   "display_name": "Python 3",
   "language": "python",
   "name": "python3"
  },
  "language_info": {
   "codemirror_mode": {
    "name": "ipython",
    "version": 3
   },
   "file_extension": ".py",
   "mimetype": "text/x-python",
   "name": "python",
   "nbconvert_exporter": "python",
   "pygments_lexer": "ipython3",
   "version": "3.8.5"
  }
 },
 "nbformat": 4,
 "nbformat_minor": 4
}
